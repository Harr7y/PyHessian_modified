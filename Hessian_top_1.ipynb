{
 "cells": [
  {
   "cell_type": "markdown",
   "id": "45bc46ca",
   "metadata": {},
   "source": [
    "# Preliminary Knowledge"
   ]
  },
  {
   "cell_type": "markdown",
   "id": "e9b6eef0",
   "metadata": {},
   "source": [
    "### Rayleigh quotient\n",
    "if $\\boldsymbol{x}$ is an $\\textbf{eigenvector}$ of a matrix $\\mathbf{A}$, the its corresponding eigenvalue is given by\n",
    "\n",
    "$\\lambda = \\frac{\\boldsymbol{x^{t}} A\\boldsymbol{x} }{\\boldsymbol{x^{t}} \\boldsymbol{x}}$"
   ]
  },
  {
   "cell_type": "markdown",
   "id": "c5c2a204",
   "metadata": {},
   "source": [
    "### Power Iteration\n",
    "Calculate the dominant eigenvector (corresponding to the top-1 eigenvalue) of the hessian Matrix $\\mathbf{A}$\n",
    "\n",
    "$\\boldsymbol{v}$ = norm(random($\\mathbf{A}$.size()))\n",
    "\n",
    "itrate k times:\n",
    "1. calculate the matrix-by-vector product A$\\boldsymbol{v}$\n",
    "\n",
    "    $\\boldsymbol{v}$ = A$\\boldsymbol{v}$\n",
    "     \n",
    "2. Norm for the next iteration\n",
    "\n",
    "    $\\boldsymbol{v}$ = $\\boldsymbol{v}$ / norm($\\boldsymbol{v}$)\n",
    "\n",
    "return $\\boldsymbol{v}$\n",
    "\n",
    "$\\boldsymbol{v}$ is the dominant eigenvector.\n",
    "\n",
    "eigenvalue is $\\lambda = \\boldsymbol{v^{t}} A\\boldsymbol{v}$, since $\\boldsymbol{v}$ is a normed vector.\n",
    "\n",
    "From wikipedia\n"
   ]
  },
  {
   "cell_type": "markdown",
   "id": "3246da68",
   "metadata": {},
   "source": [
    "---\n",
    "## Construct a simple linear model\n",
    "\n",
    "input = $[x_1, x_2]^T$\n",
    "\n",
    "linear1.weight $W = \\begin{bmatrix} w_1 & w_2 \\\\ w_3 & w_4 \\end{bmatrix}$\n",
    "\n",
    "linear2.weight $V = \\begin{bmatrix} v_1 \\\\ v_2 \\end{bmatrix}$\n",
    "\n",
    "prediction: $\\hat y$\n",
    "\n",
    "Ground Truth: $y$\n",
    "\n",
    "Loss = MSE loss\n",
    "\n",
    "$\\hat y = v_1(w_1 \\cdot x_1 + w_2 \\cdot x_2) + v_2(w_3 \\cdot x_1 + w_4 \\cdot x_2)$\n",
    "\n",
    "\n",
    "To facilitate the calculation, we initialize all parameters with integers.\n",
    "\n",
    "$[x_1, x_2]^T = [1, 1]^T $\n",
    "\n",
    "$\\begin{bmatrix} w_1 & w_2 \\\\ w_3 & w_4 \\end{bmatrix} = \\begin{bmatrix} 2 & 3 \\\\ 4 & 1 \\end{bmatrix}$\n",
    "\n",
    "$\\begin{bmatrix} v_1 \\\\ v_2 \\end{bmatrix} = \\begin{bmatrix} 2 \\\\ 1 \\end{bmatrix}$\n",
    "\n",
    "$y = 14 $\n",
    "\n",
    "$ \\hat y = 2*(2+3) + 1*(1+4) = 15 $"
   ]
  },
  {
   "cell_type": "code",
   "execution_count": 1,
   "id": "ce9accce",
   "metadata": {},
   "outputs": [],
   "source": [
    "device = 'cpu'\n",
    "cuda = True if device == 'gpu' else False"
   ]
  },
  {
   "cell_type": "code",
   "execution_count": 2,
   "id": "efd7a90c",
   "metadata": {},
   "outputs": [],
   "source": [
    "import torch\n",
    "import torch.nn as nn\n",
    "\n",
    "class DemoNet2(nn.Module):\n",
    "    def __init__(self, num_classes=1):\n",
    "        super(DemoNet2, self).__init__()\n",
    "        self.linear1 = nn.Linear(2, 2, bias=False)\n",
    "        self.linear2 = nn.Linear(2, num_classes, bias=False)\n",
    "\n",
    "    def forward(self, x):\n",
    "        out = self.linear1(x)\n",
    "        out = self.linear2(out)\n",
    "\n",
    "        return out\n",
    "    \n",
    "demo2 = DemoNet2()\n",
    "linear1_weight = torch.tensor([[2., 3.], [4., 1.]])\n",
    "linear2_weight = torch.tensor([2., 1.])\n",
    "demo2.linear1.weight = nn.Parameter(linear1_weight)\n",
    "demo2.linear2.weight = nn.Parameter(linear2_weight)\n",
    "demo2.eval()\n",
    "# create loss function\n",
    "criterion = torch.nn.MSELoss()\n",
    "input = torch.tensor([1., 1.])\n",
    "target = torch.tensor([14.])"
   ]
  },
  {
   "cell_type": "markdown",
   "id": "ce379827",
   "metadata": {},
   "source": [
    "---\n",
    "# Compute the Hessian Matrix"
   ]
  },
  {
   "cell_type": "markdown",
   "id": "16bd229c",
   "metadata": {},
   "source": [
    "## Calculate the Hessian matrix of the loss function with respect to $\\boldsymbol{W}$"
   ]
  },
  {
   "cell_type": "markdown",
   "id": "13ba35af",
   "metadata": {},
   "source": [
    "$\\frac{\\partial L}{\\partial w_1} = \\frac{\\partial L}{\\partial \\hat y} \\frac{\\partial \\hat y}{\\partial w_1} = 2(\\hat y - y)v_1x_1  $\n",
    "\n",
    "$\\frac{\\partial L}{\\partial w_2} = \\frac{\\partial L}{\\partial \\hat y} \\frac{\\partial \\hat y}{\\partial w_2} = 2(\\hat y - y)v_1x_2  $\n",
    "\n",
    "$\\frac{\\partial L}{\\partial w_3} = \\frac{\\partial L}{\\partial \\hat y} \\frac{\\partial \\hat y}{\\partial w_3} = 2(\\hat y - y)v_2x_1  $\n",
    "\n",
    "$\\frac{\\partial L}{\\partial w_4} = \\frac{\\partial L}{\\partial \\hat y} \\frac{\\partial \\hat y}{\\partial w_4} = 2(\\hat y - y)v_2x_2  $\n",
    "\n",
    "\n",
    "$\\frac{\\partial^2 L}{\\partial w_1^2} = \\frac{\\partial \\frac{\\partial L}{\\partial w_1}}{\\partial w_1} = 2\\frac{\\partial \\hat y}{\\partial w_1}v_1x_1 = 2v_1^2x_1^2 = 8$\n",
    "\n",
    "$\\frac{\\partial^2 L}{\\partial w_1 \\partial w_2} = \\frac{\\partial^2 L}{\\partial w_2 \\partial w_1}  = \\frac{\\partial \\frac{\\partial L}{\\partial w_1}}{\\partial w_2} = 2\\frac{\\partial \\hat y}{\\partial w_2}v_1x_1 = 2v_1^2x_1x_2 = 8$\n",
    "\n",
    "$\\frac{\\partial^2 L}{\\partial w_1 \\partial w_3} = \\frac{\\partial^2 L}{\\partial w_3 \\partial w_1} = \\frac{\\partial \\frac{\\partial L}{\\partial w_1}}{\\partial w_3} = 2\\frac{\\partial \\hat y}{\\partial w_3}v_1x_1 = 2v_1v_2x_1^2 = 4$\n",
    "\n",
    "$\\frac{\\partial^2 L}{\\partial w_1 \\partial w_4} = \\frac{\\partial^2 L}{\\partial w_4 \\partial w_1} = \\frac{\\partial \\frac{\\partial L}{\\partial w_1}}{\\partial w_4} = 2\\frac{\\partial \\hat y}{\\partial w_4}v_1x_1 = 2v_1v_2x_1x_2 = 4$\n",
    "\n",
    "$\\frac{\\partial^2 L}{\\partial w_2^2} = \\frac{\\partial \\frac{\\partial L}{\\partial w_2}}{\\partial w_2} = 2\\frac{\\partial \\hat y}{\\partial w_2}v_1x_2 = 2v_1^2x_2^2 = 8$\n",
    "\n",
    "$\\frac{\\partial^2 L}{\\partial w_2 \\partial w_3} = \\frac{\\partial^2 L}{\\partial w_3 \\partial w_2}  = \\frac{\\partial \\frac{\\partial L}{\\partial w_2}}{\\partial w_2} = 2\\frac{\\partial \\hat y}{\\partial w_3}v_1x_2 = 2v_1 v_2 x_1 x_2 = 4$\n",
    "\n",
    "$\\frac{\\partial^2 L}{\\partial w_2 \\partial w_4} = \\frac{\\partial^2 L}{\\partial w_4 \\partial w_2}  = \\frac{\\partial \\frac{\\partial L}{\\partial w_2}}{\\partial w_4} = 2\\frac{\\partial \\hat y}{\\partial w_4}v_1x_2 = 2v_1 v_2 x_2^2 = 4$\n",
    "\n",
    "$\\frac{\\partial^2 L}{\\partial w_3^2} = \\frac{\\partial \\frac{\\partial L}{\\partial w_3}}{\\partial w_3} = 2\\frac{\\partial \\hat y}{\\partial w_3}v_2x_1 = 2v_2^2x_1^2 = 2$\n",
    "\n",
    "$\\frac{\\partial^2 L}{\\partial w_3 \\partial w_4} = \\frac{\\partial^2 L}{\\partial w_4 \\partial w_3}  = \\frac{\\partial \\frac{\\partial L}{\\partial w_3}}{\\partial w_4} = 2\\frac{\\partial \\hat y}{\\partial w_4}v_2x_1 = 2 v_2^2 x_1 x_2 = 2$\n",
    "\n",
    "$\\frac{\\partial^2 L}{\\partial w_4^2} = \\frac{\\partial \\frac{\\partial L}{\\partial w_4}}{\\partial w_4} = 2\\frac{\\partial \\hat y}{\\partial w_4}v_2x_2 = 2v_2^2x_2^2 = 2$\n",
    "\n",
    "$ H_w = \\begin{bmatrix} \\frac{\\partial^2 L}{\\partial w_1^2} & \\frac{\\partial^2 L}{\\partial w_1 \\partial w_2}  & \\frac{\\partial^2 L}{\\partial w_1 \\partial w_3} & \\frac{\\partial^2 L}{\\partial w_1 \\partial w_4} \\\\\n",
    "\\frac{\\partial^2 L}{\\partial w_2 \\partial w_1} & \\frac{\\partial^2 L}{\\partial w_2^2} & \\frac{\\partial^2 L}{\\partial w_2 \\partial w_3} & \\frac{\\partial^2 L}{\\partial w_2 \\partial w_4} \\\\\n",
    "\\frac{\\partial^2 L}{\\partial w_3 \\partial w_1} & \\frac{\\partial^2 L}{\\partial w_3 \\partial w_2} & \\frac{\\partial^2 L}{\\partial^2 w_3^2}  & \\frac{\\partial^2 L}{\\partial w_3 \\partial w_4} \\\\\n",
    "\\frac{\\partial^2 L}{\\partial w_4 \\partial w_1} & \\frac{\\partial^2 L}{\\partial w_4 \\partial w_2} & \\frac{\\partial^2 L}{\\partial w_4 \\partial w_3} & \\frac{\\partial^2 L}{\\partial w_4^2} \\end{bmatrix} \n",
    "= \n",
    "\\begin{bmatrix} 8 & 8 & 4 & 4 \\\\ 8 & 8 & 4 & 4 \\\\ 4 & 4 & 2 & 2  \\\\ 4 & 4 & 2 & 2  \\end{bmatrix} \n",
    "$"
   ]
  },
  {
   "cell_type": "markdown",
   "id": "77ae451f",
   "metadata": {},
   "source": [
    "### Calculate the top-1 eigenvalue and corresponding eigenvactor"
   ]
  },
  {
   "cell_type": "code",
   "execution_count": 3,
   "id": "53355279",
   "metadata": {},
   "outputs": [
    {
     "name": "stdout",
     "output_type": "stream",
     "text": [
      "The top eigenvalue of H is 20.0000\n",
      "The eigenvector of top-1 eigenvalue is:  [-0.63245553 -0.63245553 -0.31622777 -0.31622777]\n"
     ]
    }
   ],
   "source": [
    "import numpy as np\n",
    "\n",
    "Matrix = np.array([[8, 8, 4, 4],[8, 8, 4, 4], [4, 4, 2, 2], [4, 4, 2, 2]])\n",
    "eigs, vecs = np.linalg.eig(Matrix)\n",
    "index = np.argsort(eigs)[-1]\n",
    "\n",
    "print(\"The top eigenvalue of H is %.4f\"%np.sort(eigs)[-1])\n",
    "print(\"The eigenvector of top-1 eigenvalue is: \", vecs[:, index])"
   ]
  },
  {
   "cell_type": "markdown",
   "id": "06aa54d4",
   "metadata": {},
   "source": [
    "## Calculate the Hessian matrix of the loss function with respect to  $\\boldsymbol{V}$"
   ]
  },
  {
   "cell_type": "markdown",
   "id": "a0acc0ae",
   "metadata": {},
   "source": [
    "$\\frac{\\partial L}{\\partial v_1} = \\frac{\\partial L}{\\partial \\hat y} \\frac{\\partial \\hat y}{\\partial v_1} = 2(\\hat y - y)(w_1x_1 + w_2x_2)  $\n",
    "\n",
    "$\\frac{\\partial L}{\\partial v_2} = \\frac{\\partial L}{\\partial \\hat y} \\frac{\\partial \\hat y}{\\partial v_2} = 2(\\hat y - y)(w_3x_1 + w_4x_2)  $\n",
    "\n",
    "$\\frac{\\partial^2 L}{\\partial v_1^2} = \\frac{\\partial \\frac{\\partial L}{\\partial v_1}}{\\partial v_1} = 2\\frac{\\partial \\hat y}{\\partial v_1}(w_1x_1 + w_2x_2) = 2(w_1x_1 + w_2x_2)^2 = 50$\n",
    "\n",
    "$\\frac{\\partial^2 L}{\\partial v_1 \\partial v_2} = \\frac{\\partial^2 L}{\\partial v_2 \\partial v_1}  = \\frac{\\partial \\frac{\\partial L}{\\partial v_1}}{\\partial v_2} = 2\\frac{\\partial \\hat y}{\\partial v_2}(w_1x_1 + w_2x_2) = 2(w_1x_1 + w_2x_2)(w_3x_1 + w_4x_2) = 50$\n",
    "\n",
    "$\\frac{\\partial^2 L}{\\partial v_2^2} = \\frac{\\partial \\frac{\\partial L}{\\partial v_2}}{\\partial v_2} = 2\\frac{\\partial \\hat y}{\\partial v_2}(w_3x_1 + w_4x_2) = 2(w_3x_1 + w_4x_2)^2 = 50$\n",
    "\n",
    "\n",
    "$ H_v = \\begin{bmatrix} \\frac{\\partial^2 L}{\\partial v_1^2} & \\frac{\\partial^2 L}{\\partial v_1 \\partial v_2} \\\\ \\frac{\\partial^2 L}{\\partial v_2 \\partial v_1} & \\frac{\\partial^2 L}{\\partial v_2^2} \\end{bmatrix} = = \n",
    "\\begin{bmatrix} 50 & 50 \\\\ 50 & 50   \\end{bmatrix} \n",
    "$"
   ]
  },
  {
   "cell_type": "markdown",
   "id": "d5aa0154",
   "metadata": {},
   "source": [
    "### Calculate the top-1 eigenvalue and corresponding eigenvactor"
   ]
  },
  {
   "cell_type": "code",
   "execution_count": 4,
   "id": "2ca0049e",
   "metadata": {},
   "outputs": [
    {
     "name": "stdout",
     "output_type": "stream",
     "text": [
      "The top eigenvalue of H is 100.0000\n",
      "The eigenvector of top-1 eigenvalue is:  [0.70710678 0.70710678]\n"
     ]
    }
   ],
   "source": [
    "Matrix = np.array([[50, 50], [50, 50]])\n",
    "eigs, vecs = np.linalg.eig(Matrix)\n",
    "index = np.argsort(eigs)[-1]\n",
    "\n",
    "print(\"The top eigenvalue of H is %.4f\"%np.sort(eigs)[-1])\n",
    "print(\"The eigenvector of top-1 eigenvalue is: \", vecs[:, index])"
   ]
  },
  {
   "cell_type": "markdown",
   "id": "fe63875a",
   "metadata": {},
   "source": [
    "---\n",
    "## Let's check the result of Pyhessian function"
   ]
  },
  {
   "cell_type": "code",
   "execution_count": 5,
   "id": "87840545",
   "metadata": {},
   "outputs": [
    {
     "name": "stderr",
     "output_type": "stream",
     "text": [
      "C:\\Users\\Administrator\\anaconda3\\lib\\site-packages\\torch\\nn\\modules\\loss.py:530: UserWarning: Using a target size (torch.Size([1])) that is different to the input size (torch.Size([])). This will likely lead to incorrect results due to broadcasting. Please ensure they have the same size.\n",
      "  return F.mse_loss(input, target, reduction=self.reduction)\n",
      "C:\\Users\\Administrator\\anaconda3\\lib\\site-packages\\torch\\autograd\\__init__.py:173: UserWarning: Using backward() with create_graph=True will create a reference cycle between the parameter and its gradient which can cause a memory leak. We recommend using autograd.grad when creating the graph to avoid this. If you have to use this function, make sure to reset the .grad fields of your parameters to None after use to break the cycle and avoid the leak. (Triggered internally at  C:\\b\\abs_bao0hdcrdh\\croot\\pytorch_1675190257512\\work\\torch\\csrc\\autograd\\engine.cpp:1000.)\n",
      "  Variable._execution_engine.run_backward(  # Calls into the C++ engine to run the backward pass\n"
     ]
    }
   ],
   "source": [
    "from pyhessian import hessian # Hessian computation\n",
    "\n",
    "hessian_comp = hessian(demo2, criterion, data=(input, target), cuda=cuda)\n",
    "top_eigenvalues, top_eigenvector = hessian_comp.eigenvalues(top_n=1, maxIter=50)"
   ]
  },
  {
   "cell_type": "code",
   "execution_count": 6,
   "id": "2e5a3685",
   "metadata": {},
   "outputs": [
    {
     "data": {
      "text/plain": [
       "[121.97093200683594]"
      ]
     },
     "execution_count": 6,
     "metadata": {},
     "output_type": "execute_result"
    }
   ],
   "source": [
    "top_eigenvalues"
   ]
  },
  {
   "cell_type": "code",
   "execution_count": 7,
   "id": "37137de2",
   "metadata": {},
   "outputs": [
    {
     "data": {
      "text/plain": [
       "[[tensor([[0.2644, 0.2644],\n",
       "          [0.1374, 0.1374]]),\n",
       "  tensor([0.6433, 0.6392])]]"
      ]
     },
     "execution_count": 7,
     "metadata": {},
     "output_type": "execute_result"
    }
   ],
   "source": [
    "top_eigenvector"
   ]
  },
  {
   "cell_type": "markdown",
   "id": "fd60e3c0",
   "metadata": {},
   "source": [
    "$121.97 \\approx 20 + 100$, error exists. Besides, the Pyhessian computed eigenvectors are not normalized, and there are errors in the scaling. \n",
    "\n",
    "For example, for V, the ground truth is [0.707, 0.707] (1:1), output of Pyhessian is [0.6433, 0.6392] (not 1:1).\n",
    "\n",
    "Why this error happens?"
   ]
  },
  {
   "cell_type": "markdown",
   "id": "e797824f",
   "metadata": {},
   "source": [
    "1. normalization\n",
    "\n",
    "    It normal all the random vectors for different layers in power iteration method with the sum of all random vectors.\n",
    "    \n",
    "    $ V = [v_1, v_2]^T$ is normalized to $V_{norm} = [\\frac{v_1}{C}, \\frac{v_2}{C}]^T, C = norm(v_1) + norm(v_2)$ , $v_1, v_2$ are vectors.\n",
    "    \n",
    "    I think the right way is $V_{norm} = [\\frac{v_1}{norm(v_1)}, \\frac{v_2}{norm(v_2)}]^T$\n",
    "    \n",
    "\n",
    "2. hessian_vector_product\n",
    "\n",
    "    It utilize the official library functions of Pytorch: torch.autograd.grad(A, B, V) to computes the sum of gradients of A with respect to the B. V should be a sequence of length matching A containing the “vector” in vector-Jacobian product. We can view it as $\\frac{\\partial A}{\\partial B}V$, suitable to compute the step-1 of power iteration ($\\frac{\\partial A}{\\partial B}$ = hessian matrix).\n",
    "    \n",
    "    $A_1$ is the gradient of Loss function with respect to the $B_1$. For example, $A_1$ and $A_2$ are the $\\frac{\\partial L}{\\partial  \\boldsymbol{W}}$ and $\\frac{\\partial L}{\\partial \\boldsymbol{V}}$, and $B_1$ and $B_2$ are weights ( $\\boldsymbol{W}$ and  $\\boldsymbol{V}$ in the demo network).\n",
    "    \n",
    "    However, the A, B and V are lists (we assume the length is 2). If we directly call torch.autograd.grad(A, B, V), the result is:\n",
    "    torch.autograd.grad(A, B, V) = $[\\frac{\\partial A_1}{\\partial B_1}V_1 + \\frac{\\partial A_2}{\\partial B_1}V_2, \\frac{\\partial A_1}{\\partial B_2}V_1 + \\frac{\\partial A_2}{\\partial B_2}V_2]$, actually we need  $[\\frac{\\partial A_1}{\\partial B_1}V_1, \\frac{\\partial A_2}{\\partial B_2}V_2]$."
   ]
  },
  {
   "cell_type": "markdown",
   "id": "cdb60da8",
   "metadata": {},
   "source": [
    "---\n",
    "# So I modify some auxiliary function of Pyhessian to calculate the top-1 eigenvalue of each layer."
   ]
  },
  {
   "cell_type": "code",
   "execution_count": 8,
   "id": "4522a938",
   "metadata": {},
   "outputs": [],
   "source": [
    "def normalization(v):\n",
    "    \"\"\"\n",
    "    normalization of a list of vectors\n",
    "    return: a list of normalized vectors v\n",
    "    \"\"\"\n",
    "    v = [x / ((torch.sum(x * y)**0.5).item() + 1e-6) for (x, y) in zip(v, v)]\n",
    "    return v\n",
    "\n",
    "# v = [torch.randn((3,3,3,3))]\n",
    "# sum_ = normalization(v)\n",
    "# for s in sum_:\n",
    "#     print(torch.norm(s))\n",
    "\n",
    "\n",
    "\n",
    "def get_params_grad(model):\n",
    "    \"\"\"\n",
    "    get model parameters and corresponding gradients\n",
    "    \"\"\"\n",
    "    params = []\n",
    "    grads = []\n",
    "    for param in model.parameters():\n",
    "        if not param.requires_grad:\n",
    "            continue\n",
    "        params.append(param)\n",
    "        grads.append(0. if param.grad is None else param.grad + 0.)\n",
    "    return params, grads\n",
    "\n",
    "\n",
    "def group_product_sum(xs, ys):\n",
    "    \"\"\"\n",
    "    the inner product of two lists of vectors xs,ys\n",
    "    :param xs:\n",
    "    :param ys:\n",
    "    :return:\n",
    "    \"\"\"\n",
    "    return sum([torch.sum(x * y) for (x, y) in zip(xs, ys)])\n",
    "\n",
    "\n",
    "def group_product(xs, ys):\n",
    "    \"\"\"\n",
    "    the inner product of two lists of variables xs,ys\n",
    "    :param xs:\n",
    "    :param ys:\n",
    "    :return: a list of the inner product of two lists of variables xs,ys\n",
    "    \"\"\"\n",
    "    return [torch.sum(x * y) for (x, y) in zip(xs, ys)]\n",
    "\n",
    "\n",
    "\n",
    "# if gradsH， params，v are lists，则计算的hv[j]\n",
    "# hv[j] = sum(torch.autograd.grad(gradsH[i], params[j], grad_outputs=v[i], only_inputs=True, retain_graph=True) for i in len(v))\n",
    "# def hessian_vector_product(gradsH, params, v):\n",
    "#     \"\"\"\n",
    "#     compute the hessian vector product of Hv, where\n",
    "#     gradsH is the gradient at the current point,\n",
    "#     params is the corresponding variables,\n",
    "#     v is the vector.\n",
    "#     \"\"\"\n",
    "\n",
    "#     hv = torch.autograd.grad(gradsH,\n",
    "#                              params,\n",
    "#                              grad_outputs=v,\n",
    "#                              only_inputs=True,\n",
    "#                              retain_graph=True)\n",
    "#     return hv\n",
    "\n",
    "\n",
    "def hessian_vector_product(gradsH, params, v):\n",
    "    \"\"\"\n",
    "    compute the hessian vector product of Hv, where\n",
    "    gradsH is the gradient at the current point,\n",
    "    params is the corresponding variables,\n",
    "    v is the vector.\n",
    "    \"\"\"\n",
    "    hv = []\n",
    "    for i in range(len(gradsH)):\n",
    "        hv.append(torch.autograd.grad(gradsH[i],\n",
    "                                 params[i],\n",
    "                                 grad_outputs=v[i],\n",
    "                                 only_inputs=True,\n",
    "                                 retain_graph=True)[0])\n",
    "    return tuple(hv)"
   ]
  },
  {
   "cell_type": "markdown",
   "id": "a656fa0c",
   "metadata": {},
   "source": [
    "## Let's check the output of the modified functions"
   ]
  },
  {
   "cell_type": "code",
   "execution_count": 9,
   "id": "4843b113",
   "metadata": {},
   "outputs": [
    {
     "name": "stdout",
     "output_type": "stream",
     "text": [
      "Break:  2\n"
     ]
    }
   ],
   "source": [
    "output = demo2(input)\n",
    "demo2.zero_grad()\n",
    "loss = criterion(output, target)\n",
    "loss.backward(create_graph=True, retain_graph=True)\n",
    "\n",
    "params, gradsH = get_params_grad(demo2)\n",
    "\n",
    "computed_dim, top_k = 0, 1\n",
    "iteration = 50\n",
    "tol = 1e-3\n",
    "eigenvalues = []\n",
    "eigenvectors = []\n",
    "\n",
    "while computed_dim < top_k:\n",
    "    eigenvalue = None\n",
    "    v = [torch.randn(p.size()).to(device) for p in params] \n",
    "    v = normalization(v)\n",
    "    for i in range(iteration):\n",
    "        # only compute top-1 eigenvalue, I didn't consider the orthonormal now\n",
    "#         v = orthnormal(v, eigenvectors)\n",
    "        demo2.zero_grad()\n",
    "        Hv = hessian_vector_product(gradsH, params, v)\n",
    "        tmp_eigenvalue = group_product(Hv, v)\n",
    "        \n",
    "        v = normalization(Hv)\n",
    "        \n",
    "        if eigenvalue == None:\n",
    "            eigenvalue = tmp_eigenvalue\n",
    "        else:\n",
    "            if abs(sum(eigenvalue) - sum(tmp_eigenvalue)) / (abs(sum(eigenvalue) + 1e-6)) < tol:\n",
    "                print(\"Break: \", i)\n",
    "                break\n",
    "            else:\n",
    "                eigenvalue = tmp_eigenvalue      \n",
    "    eigenvalues.append(eigenvalue)\n",
    "    eigenvectors.append(v)\n",
    "        \n",
    "    \n",
    "    computed_dim += 1\n",
    "\n"
   ]
  },
  {
   "cell_type": "code",
   "execution_count": 10,
   "id": "b1cde8ba",
   "metadata": {},
   "outputs": [
    {
     "data": {
      "text/plain": [
       "[[tensor(20.), tensor(100.)]]"
      ]
     },
     "execution_count": 10,
     "metadata": {},
     "output_type": "execute_result"
    }
   ],
   "source": [
    "eigenvalues"
   ]
  },
  {
   "cell_type": "code",
   "execution_count": 11,
   "id": "ff3a170b",
   "metadata": {},
   "outputs": [
    {
     "data": {
      "text/plain": [
       "[[tensor([[-0.6325, -0.6325],\n",
       "          [-0.3162, -0.3162]]),\n",
       "  tensor([0.7071, 0.7071])]]"
      ]
     },
     "execution_count": 11,
     "metadata": {},
     "output_type": "execute_result"
    }
   ],
   "source": [
    "eigenvectors"
   ]
  },
  {
   "cell_type": "code",
   "execution_count": 12,
   "id": "02c79aa1",
   "metadata": {},
   "outputs": [
    {
     "data": {
      "text/plain": [
       "tensor(1.0000)"
      ]
     },
     "execution_count": 12,
     "metadata": {},
     "output_type": "execute_result"
    }
   ],
   "source": [
    "torch.norm(eigenvectors[0][0])"
   ]
  },
  {
   "cell_type": "markdown",
   "id": "a38754e2",
   "metadata": {},
   "source": [
    "## Ground Truth"
   ]
  },
  {
   "cell_type": "code",
   "execution_count": 13,
   "id": "c5294f86",
   "metadata": {},
   "outputs": [
    {
     "name": "stdout",
     "output_type": "stream",
     "text": [
      "The top eigenvalue of H is 20.0000\n",
      "The eigenvector of top-1 eigenvalue is:  [-0.63245553 -0.63245553 -0.31622777 -0.31622777]\n",
      "The top eigenvalue of H is 100.0000\n",
      "The eigenvector of top-1 eigenvalue is:  [0.70710678 0.70710678]\n"
     ]
    }
   ],
   "source": [
    "import numpy as np\n",
    "\n",
    "Matrix = np.array([[8, 8, 4, 4],[8, 8, 4, 4], [4, 4, 2, 2], [4, 4, 2, 2]])\n",
    "eigs, vecs = np.linalg.eig(Matrix)\n",
    "index = np.argsort(eigs)[-1]\n",
    "\n",
    "print(\"The top eigenvalue of H is %.4f\"%np.sort(eigs)[-1])\n",
    "print(\"The eigenvector of top-1 eigenvalue is: \", vecs[:, index])\n",
    "\n",
    "Matrix = np.array([[50, 50], [50, 50]])\n",
    "eigs, vecs = np.linalg.eig(Matrix)\n",
    "index = np.argsort(eigs)[-1]\n",
    "\n",
    "print(\"The top eigenvalue of H is %.4f\"%np.sort(eigs)[-1])\n",
    "print(\"The eigenvector of top-1 eigenvalue is: \", vecs[:, index])"
   ]
  },
  {
   "cell_type": "markdown",
   "id": "29e64753",
   "metadata": {},
   "source": [
    "# The results are consistent with the true values."
   ]
  },
  {
   "cell_type": "markdown",
   "id": "ddbe8443",
   "metadata": {},
   "source": [
    "### Attachments: We can check the elements of the Hessian matrix with torch.autograd.grad"
   ]
  },
  {
   "cell_type": "code",
   "execution_count": 14,
   "id": "e5e89d6c",
   "metadata": {},
   "outputs": [
    {
     "name": "stdout",
     "output_type": "stream",
     "text": [
      "The 1-st row/column elements of Hessian is: tensor([8., 8., 4., 4.])\n",
      "The 2-nd row/column elements of Hessian is: tensor([8., 8., 4., 4.])\n",
      "The 3-rd row/column elements of Hessian is: tensor([4., 4., 2., 2.])\n",
      "The 4-th row/column elements of Hessian is: tensor([4., 4., 2., 2.])\n"
     ]
    }
   ],
   "source": [
    "# grads.append(0. if param.grad is None else param.grad + 0.)\n",
    "\n",
    "# grad = torch.autograd.grad(loss, demo2.linear1.weight)[0]\n",
    "output = demo2(input)\n",
    "demo2.zero_grad()\n",
    "loss = criterion(output, target)\n",
    "loss.backward(create_graph=True, retain_graph=True)\n",
    "v = torch.zeros_like(demo2.linear1.weight.grad)\n",
    "v[0, 0] = 1\n",
    "grad2 = torch.autograd.grad(demo2.linear1.weight.grad, demo2.linear1.weight, v)[0]\n",
    "print(\"The 1-st row/column elements of Hessian is:\", grad2.flatten())\n",
    "\n",
    "output = demo2(input)\n",
    "demo2.zero_grad()\n",
    "loss = criterion(output, target)\n",
    "loss.backward(create_graph=True, retain_graph=True)\n",
    "v = torch.zeros_like(demo2.linear1.weight.grad)\n",
    "v[0, 1] = 1\n",
    "grad2 = torch.autograd.grad(demo2.linear1.weight.grad, demo2.linear1.weight, v)[0]\n",
    "print(\"The 2-nd row/column elements of Hessian is:\", grad2.flatten())\n",
    "\n",
    "output = demo2(input)\n",
    "demo2.zero_grad()\n",
    "loss = criterion(output, target)\n",
    "loss.backward(create_graph=True, retain_graph=True)\n",
    "v = torch.zeros_like(demo2.linear1.weight.grad)\n",
    "v[1, 0] = 1\n",
    "grad2 = torch.autograd.grad(demo2.linear1.weight.grad, demo2.linear1.weight, v)[0]\n",
    "print(\"The 3-rd row/column elements of Hessian is:\", grad2.flatten())\n",
    "\n",
    "output = demo2(input)\n",
    "demo2.zero_grad()\n",
    "loss = criterion(output, target)\n",
    "loss.backward(create_graph=True, retain_graph=True)\n",
    "v = torch.zeros_like(demo2.linear1.weight.grad)\n",
    "v[1, 1] = 1\n",
    "grad2 = torch.autograd.grad(demo2.linear1.weight.grad, demo2.linear1.weight, v)[0]\n",
    "print(\"The 4-th row/column elements of Hessian is:\", grad2.flatten())"
   ]
  }
 ],
 "metadata": {
  "kernelspec": {
   "display_name": "Python 3 (ipykernel)",
   "language": "python",
   "name": "python3"
  },
  "language_info": {
   "codemirror_mode": {
    "name": "ipython",
    "version": 3
   },
   "file_extension": ".py",
   "mimetype": "text/x-python",
   "name": "python",
   "nbconvert_exporter": "python",
   "pygments_lexer": "ipython3",
   "version": "3.10.9"
  }
 },
 "nbformat": 4,
 "nbformat_minor": 5
}
